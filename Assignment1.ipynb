{
 "cells": [
  {
   "cell_type": "markdown",
   "metadata": {},
   "source": [
    "Code to show to the menu in a nested dictionary"
   ]
  },
  {
   "cell_type": "code",
   "execution_count": 3,
   "metadata": {},
   "outputs": [],
   "source": [
    "menu = {\n",
    "    \"Spaghetti Bolognese\": {\n",
    "        \"Price (USD)\": 12.99,\n",
    "        \"Type of Food\": \"Dinner\",\n",
    "        \"Dietary Restriction\": \"None\",\n",
    "        \"Cuisine\": \"Italian\"\n",
    "    },\n",
    "    \"Sushi Roll\": {\n",
    "        \"Price (USD)\": 8.49,\n",
    "        \"Type of Food\": \"Dinner\",\n",
    "        \"Dietary Restriction\": \"None\",\n",
    "        \"Cuisine\": \"Japanese\"\n",
    "    },\n",
    "    \"Chicken Caesar Salad\": {\n",
    "        \"Price (USD)\": 9.99,\n",
    "        \"Type of Food\": \"Lunch\",\n",
    "        \"Dietary Restriction\": \"Gluten-Free\",\n",
    "        \"Cuisine\": \"American\"\n",
    "    },\n",
    "    \"Margherita Pizza\": {\n",
    "        \"Price (USD)\": 10.99,\n",
    "        \"Type of Food\": \"Dinner\",\n",
    "        \"Dietary Restriction\": \"Vegetarian\",\n",
    "        \"Cuisine\": \"Italian\"\n",
    "    },\n",
    "    \"Tofu Stir-Fry\": {\n",
    "        \"Price (USD)\": 11.49,\n",
    "        \"Type of Food\": \"Dinner\",\n",
    "        \"Dietary Restriction\": \"Vegan\",\n",
    "        \"Cuisine\": \"Asian\"\n",
    "    },\n",
    "    \"Cheeseburger\": {\n",
    "        \"Price (USD)\": 5.99,\n",
    "        \"Type of Food\": \"Lunch\",\n",
    "        \"Dietary Restriction\": \"None\",\n",
    "        \"Cuisine\": \"American\"\n",
    "    },\n",
    "    \"Avocado Toast\": {\n",
    "        \"Price (USD)\": 7.99,\n",
    "        \"Type of Food\": \"Breakfast\",\n",
    "        \"Dietary Restriction\": \"Vegetarian\",\n",
    "        \"Cuisine\": \"American\"\n",
    "    },\n",
    "    \"Beef Tacos\": {\n",
    "        \"Price (USD)\": 8.79,\n",
    "        \"Type of Food\": \"Dinner\",\n",
    "        \"Dietary Restriction\": \"None\",\n",
    "        \"Cuisine\": \"Mexican\"\n",
    "    },\n",
    "    \"Veggie Curry\": {\n",
    "        \"Price (USD)\": 12.49,\n",
    "        \"Type of Food\": \"Dinner\",\n",
    "        \"Dietary Restriction\": \"Vegan\",\n",
    "        \"Cuisine\": \"Indian\"\n",
    "    },\n",
    "    \"Salmon Fillet\": {\n",
    "        \"Price (USD)\": 14.99,\n",
    "        \"Type of Food\": \"Dinner\",\n",
    "        \"Dietary Restriction\": \"None\",\n",
    "        \"Cuisine\": \"Seafood\"\n",
    "    },\n",
    "    \"Shrimp Alfredo\": {\n",
    "        \"Price (USD)\": 15.99,\n",
    "        \"Type of Food\": \"Dinner\",\n",
    "        \"Dietary Restriction\": \"None\",\n",
    "        \"Cuisine\": \"Italian\"\n",
    "    },\n",
    "    \"Quinoa Salad\": {\n",
    "        \"Price (USD)\": 9.29,\n",
    "        \"Type of Food\": \"Lunch\",\n",
    "        \"Dietary Restriction\": \"Vegan, Gluten-Free\",\n",
    "        \"Cuisine\": \"American\"\n",
    "    },\n",
    "    \"BBQ Ribs\": {\n",
    "        \"Price (USD)\": 16.79,\n",
    "        \"Type of Food\": \"Dinner\",\n",
    "        \"Dietary Restriction\": \"None\",\n",
    "        \"Cuisine\": \"American\"\n",
    "    },\n",
    "    \"Caprese Salad\": {\n",
    "        \"Price (USD)\": 7.49,\n",
    "        \"Type of Food\": \"Lunch\",\n",
    "        \"Dietary Restriction\": \"Vegetarian\",\n",
    "        \"Cuisine\": \"Italian\"\n",
    "    },\n",
    "    \"Chicken Shawarma\": {\n",
    "        \"Price (USD)\": 10.99,\n",
    "        \"Type of Food\": \"Dinner\",\n",
    "        \"Dietary Restriction\": \"None\",\n",
    "        \"Cuisine\": \"Middle Eastern\"\n",
    "    },\n",
    "    \"Chocolate Fondue\": {\n",
    "        \"Price (USD)\": 12.99,\n",
    "        \"Type of Food\": \"Dessert\",\n",
    "        \"Dietary Restriction\": \"None\",\n",
    "        \"Cuisine\": \"American\"\n",
    "    },\n",
    "    \"Pho Soup\": {\n",
    "        \"Price (USD)\": 9.99,\n",
    "        \"Type of Food\": \"Dinner\",\n",
    "        \"Dietary Restriction\": \"None\",\n",
    "        \"Cuisine\": \"Vietnamese\"\n",
    "    },\n",
    "    \"Spinach and Artichoke Dip\": {\n",
    "        \"Price (USD)\": 8.49,\n",
    "        \"Type of Food\": \"Dinner\",\n",
    "        \"Dietary Restriction\": \"Vegetarian\",\n",
    "        \"Cuisine\": \"American\"\n",
    "    },\n",
    "    \"Fruit Smoothie\": {\n",
    "        \"Price (USD)\": 6.99,\n",
    "        \"Type of Food\": \"Breakfast\",\n",
    "        \"Dietary Restriction\": \"Vegan\",\n",
    "        \"Cuisine\": \"Beverage\"\n",
    "    },\n",
    "    \"Beef Stroganoff\": {\n",
    "        \"Price (USD)\": 13.49,\n",
    "        \"Type of Food\": \"Dinner\",\n",
    "        \"Dietary Restriction\": \"None\",\n",
    "        \"Cuisine\": \"Russian\"\n",
    "    },\n",
    "    \"Pad Thai\": {\n",
    "        \"Price (USD)\": 11.29,\n",
    "        \"Type of Food\": \"Dinner\",\n",
    "        \"Dietary Restriction\": \"None\",\n",
    "        \"Cuisine\": \"Thai\"\n",
    "    }\n",
    "}"
   ]
  },
  {
   "cell_type": "markdown",
   "metadata": {},
   "source": [
    "Code for list of users "
   ]
  },
  {
   "cell_type": "code",
   "execution_count": 33,
   "metadata": {},
   "outputs": [],
   "source": [
    "users = {\n",
    "    \"Thevan\": {\n",
    "        \"Username\": \"ThevanM\",\n",
    "        \"Password\": \"Meow123\",\n",
    "        \"Name\": \"Thevan Mohanathas\"\n",
    "    },\n",
    "    \"Malik\": {\n",
    "        \"Username\": \"MalikA\",\n",
    "        \"Password\": \"Woof123\",\n",
    "        \"Name\": \"Malik Ali\"\n",
    "    },\n",
    "    \"Ashley\": {\n",
    "        \"Username\": \"AshleyK\",\n",
    "        \"Password\": \"Moo123\",\n",
    "        \"Name\": \"Ashley Keller\"\n",
    "    },\n",
    "    \"William\": {\n",
    "        \"Username\": \"WilliamVW\",\n",
    "        \"Password\": \"Rawr123\",\n",
    "        \"Name\": \"William Van Woensel\"\n",
    "    },\n",
    "}"
   ]
  },
  {
   "cell_type": "markdown",
   "metadata": {},
   "source": [
    "A login function to check to see if the user exists"
   ]
  },
  {
   "cell_type": "code",
   "execution_count": 5,
   "metadata": {},
   "outputs": [],
   "source": [
    "def login():\n",
    "    attempts = 0\n",
    "    while attempts <3:\n",
    "        username = input(\"Enter your username: \")\n",
    "        password = input(\"Enter your password: \")\n",
    "        for user, credentials in users.items():\n",
    "            if credentials[\"Username\"] == username and credentials[\"Password\"] == password:\n",
    "                print(\"Login successful!\")\n",
    "                print(f\"Welcome, {credentials['Name']}!\")\n",
    "                return\n",
    "        print(\"Invalid username or password. Please try again.\")\n",
    "        attempts += 1\n",
    "    print(\"Login failed, try again later.\")"
   ]
  },
  {
   "cell_type": "markdown",
   "metadata": {},
   "source": [
    "Search function to browse through catering options"
   ]
  },
  {
   "cell_type": "code",
   "execution_count": 6,
   "metadata": {},
   "outputs": [],
   "source": [
    "def search_by_cuisine(cuisine):\n",
    "    matching_items = []\n",
    "    for item, details in menu.items():\n",
    "        if details[\"Cuisine\"].lower().startswith(cuisine.lower()):\n",
    "            matching_items.append(item)\n",
    "    return matching_items"
   ]
  },
  {
   "cell_type": "markdown",
   "metadata": {},
   "source": [
    "Menu Printing Code"
   ]
  },
  {
   "cell_type": "code",
   "execution_count": 30,
   "metadata": {},
   "outputs": [],
   "source": [
    "def print_menu_items(items):\n",
    "    for index, item in enumerate(items, start=1):\n",
    "        print(f\"{index}. {item}.\")"
   ]
  },
  {
   "cell_type": "markdown",
   "metadata": {},
   "source": [
    "Ordering function code (Code not working still going through it)"
   ]
  },
  {
   "cell_type": "code",
   "execution_count": 28,
   "metadata": {},
   "outputs": [],
   "source": [
    "def ordering():\n",
    "    total = 0\n",
    "    print(\"Invalid input. Please enter a valid number.\")\n",
    "    \n",
    "    cuisine_input = input(\"What type of cuisine would you like to try? Enter a cuisine: \")\n",
    "    matching_items = search_by_cuisine(cuisine_input)\n",
    "    if matching_items:\n",
    "        print(\"Here are the matching items:\")\n",
    "        print_menu_items(matching_items)\n",
    "        order = input(\"Would you like to order any of these items? (yes/no): \").lower()\n",
    "        if order == \"yes\":\n",
    "            while True:\n",
    "                try:\n",
    "                    choice = int(input(\"Enter the number of the item you'd like to order: \"))\n",
    "                    if 1 <= choice <= len(matching_items):\n",
    "                        item_name = matching_items[choice - 1]\n",
    "                        price = menu[item_name][\"Price (USD)\"]\n",
    "                        total += price\n",
    "                        print(f\"Added {item_name} to your order. Current total: ${total:.2f}\")\n",
    "                        another_item = input(\"Would you like to order another item? (yes/no): \").lower()\n",
    "                        if another_item == \"no\":\n",
    "                            print(f\"Thank you for your order! Your total is ${total:.2f}.\")\n",
    "                            return\n",
    "                        elif another_item == \"yes\":\n",
    "                            continue\n",
    "                        else:\n",
    "                            print(\"Invalid input. Please enter 'yes' or 'no'.\")\n",
    "                    else:\n",
    "                        print(\"Invalid choice. Please enter a valid number.\")\n",
    "                except ValueError:\n",
    "                    print(\"Invalid input. Please enter a valid number.\")\n",
    "    else:\n",
    "        print(\"No matching items found.\")\n"
   ]
  },
  {
   "cell_type": "markdown",
   "metadata": {},
   "source": [
    "Main Function"
   ]
  },
  {
   "cell_type": "code",
   "execution_count": 31,
   "metadata": {},
   "outputs": [
    {
     "name": "stdout",
     "output_type": "stream",
     "text": [
      "Please sign in to continue.\n",
      "Login successful!\n",
      "Welcome, Malik Ali!\n",
      "Invalid input. Please enter a valid number.\n",
      "Here are the matching items:\n",
      "1. Spaghetti Bolognese.\n",
      "2. Margherita Pizza.\n",
      "3. Shrimp Alfredo.\n",
      "4. Caprese Salad.\n",
      "Added Margherita Pizza to your order. Current total: $10.99\n",
      "Invalid input. Please enter 'yes' or 'no'.\n",
      "Invalid input. Please enter a valid number.\n",
      "Invalid choice. Please enter a valid number.\n",
      "Added Shrimp Alfredo to your order. Current total: $26.98\n",
      "Thank you for your order! Your total is $26.98.\n"
     ]
    }
   ],
   "source": [
    "def main():\n",
    "    print(\"Please sign in to continue.\")\n",
    "    login()\n",
    "    # Add further functionality after login if needed\n",
    "    ordering()\n",
    "\n",
    "if __name__ == \"__main__\":\n",
    "    main()"
   ]
  }
 ],
 "metadata": {
  "kernelspec": {
   "display_name": "base",
   "language": "python",
   "name": "python3"
  },
  "language_info": {
   "codemirror_mode": {
    "name": "ipython",
    "version": 3
   },
   "file_extension": ".py",
   "mimetype": "text/x-python",
   "name": "python",
   "nbconvert_exporter": "python",
   "pygments_lexer": "ipython3",
   "version": "3.11.5"
  }
 },
 "nbformat": 4,
 "nbformat_minor": 2
}
